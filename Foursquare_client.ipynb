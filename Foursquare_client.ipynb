{
  "nbformat": 4,
  "nbformat_minor": 0,
  "metadata": {
    "colab": {
      "name": "Foursquare_client.ipynb",
      "provenance": []
    },
    "kernelspec": {
      "name": "python3",
      "display_name": "Python 3"
    }
  },
  "cells": [
    {
      "cell_type": "code",
      "metadata": {
        "id": "bcW3E4qEZPyx",
        "colab_type": "code",
        "outputId": "5a8e331c-d57c-4857-fa8c-516dc042d483",
        "colab": {
          "base_uri": "https://localhost:8080/",
          "height": 153
        }
      },
      "source": [
        "!pip install foursquare\n",
        "\n",
        "# mount Google Drive\n",
        "from google.colab import drive\n",
        "drive.mount('/content/gdrive')"
      ],
      "execution_count": 0,
      "outputs": [
        {
          "output_type": "stream",
          "text": [
            "Requirement already satisfied: foursquare in /usr/local/lib/python3.6/dist-packages (1!2019.9.11)\n",
            "Requirement already satisfied: requests>=2.1 in /usr/local/lib/python3.6/dist-packages (from foursquare) (2.21.0)\n",
            "Requirement already satisfied: six in /usr/local/lib/python3.6/dist-packages (from foursquare) (1.12.0)\n",
            "Requirement already satisfied: urllib3<1.25,>=1.21.1 in /usr/local/lib/python3.6/dist-packages (from requests>=2.1->foursquare) (1.24.3)\n",
            "Requirement already satisfied: chardet<3.1.0,>=3.0.2 in /usr/local/lib/python3.6/dist-packages (from requests>=2.1->foursquare) (3.0.4)\n",
            "Requirement already satisfied: certifi>=2017.4.17 in /usr/local/lib/python3.6/dist-packages (from requests>=2.1->foursquare) (2019.9.11)\n",
            "Requirement already satisfied: idna<2.9,>=2.5 in /usr/local/lib/python3.6/dist-packages (from requests>=2.1->foursquare) (2.8)\n",
            "Drive already mounted at /content/gdrive; to attempt to forcibly remount, call drive.mount(\"/content/gdrive\", force_remount=True).\n"
          ],
          "name": "stdout"
        }
      ]
    },
    {
      "cell_type": "code",
      "metadata": {
        "id": "kIc1fzjgZWQU",
        "colab_type": "code",
        "colab": {}
      },
      "source": [
        "import foursquare\n",
        "import datetime\n",
        "import time\n",
        "\n",
        "client_id = \"KZ5Y4YJBA0W224RHIMSYLPLAKJC0401LI1HTBFY2L20EPQOV\"\n",
        "client_secret = \"JE5T3JNIRZ2RGMNTJPGI0YPLEYYGQMYN0X2VICBUKHRMIR1Q\"\n",
        "client = foursquare.Foursquare(client_id=client_id, client_secret=client_secret)\n",
        "\n",
        "\n",
        "cities = [\"New York\",\"Los Angeles\",\"Chicago\"]"
      ],
      "execution_count": 0,
      "outputs": []
    },
    {
      "cell_type": "code",
      "metadata": {
        "id": "xVzc5bGUZxKJ",
        "colab_type": "code",
        "colab": {}
      },
      "source": [
        "for city in cities:\n",
        "    with open(\"/content/gdrive/My Drive/Colab Notebooks/COLAB DATASETS/\"+\"\".join(city.split(\" \"))+str(datetime.datetime.now().time().strftime(\"%Y%m%d%H%m%s\"))+\".txt\", \"w\") as f:\n",
        "      trending_venues = client.venues.trending(params={\"near\":city, \"limit\":10})\n"
      ],
      "execution_count": 0,
      "outputs": []
    },
    {
      "cell_type": "code",
      "metadata": {
        "id": "4JMIEzsIYa1f",
        "colab_type": "code",
        "colab": {}
      },
      "source": [
        "for venue in trending_venues[\"venues\"]:\n",
        "        f.write(venue[\"categories\"][0][\"name\"] + \",\" + str(venue[\"hereNow\"][\"count\"])+\"\\n\")"
      ],
      "execution_count": 0,
      "outputs": []
    }
  ]
}